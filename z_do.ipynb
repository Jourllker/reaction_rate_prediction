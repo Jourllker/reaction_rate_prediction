{
 "cells": [
  {
   "cell_type": "code",
   "execution_count": 6,
   "metadata": {},
   "outputs": [
    {
     "ename": "TypeError",
     "evalue": "AutoTokenizer.from_pretrained() got multiple values for argument 'pretrained_model_name_or_path'",
     "output_type": "error",
     "traceback": [
      "\u001b[0;31m---------------------------------------------------------------------------\u001b[0m",
      "\u001b[0;31mTypeError\u001b[0m                                 Traceback (most recent call last)",
      "Cell \u001b[0;32mIn[6], line 4\u001b[0m\n\u001b[1;32m      1\u001b[0m \u001b[38;5;28;01mfrom\u001b[39;00m \u001b[38;5;21;01mtransformers\u001b[39;00m \u001b[38;5;28;01mimport\u001b[39;00m AutoTokenizer\n\u001b[1;32m      3\u001b[0m \u001b[38;5;66;03m# 加载预训练的Tokenizer\u001b[39;00m\n\u001b[0;32m----> 4\u001b[0m tokenizer \u001b[38;5;241m=\u001b[39m \u001b[43mAutoTokenizer\u001b[49m\u001b[38;5;241;43m.\u001b[39;49m\u001b[43mfrom_pretrained\u001b[49m\u001b[43m(\u001b[49m\u001b[38;5;124;43m\"\u001b[39;49m\u001b[38;5;124;43mbert-base-uncased\u001b[39;49m\u001b[38;5;124;43m\"\u001b[39;49m\u001b[43m,\u001b[49m\u001b[43m \u001b[49m\u001b[43mpretrained_model_name_or_path\u001b[49m\u001b[38;5;241;43m=\u001b[39;49m\u001b[38;5;124;43m\"\u001b[39;49m\u001b[38;5;124;43mvocab.txt\u001b[39;49m\u001b[38;5;124;43m\"\u001b[39;49m\u001b[43m)\u001b[49m\n\u001b[1;32m      6\u001b[0m \u001b[38;5;66;03m# 待处理的文本\u001b[39;00m\n\u001b[1;32m      7\u001b[0m text \u001b[38;5;241m=\u001b[39m \u001b[38;5;124m\"\u001b[39m\u001b[38;5;124mTransformers are the core of modern NLP tasks.\u001b[39m\u001b[38;5;124m\"\u001b[39m\n",
      "\u001b[0;31mTypeError\u001b[0m: AutoTokenizer.from_pretrained() got multiple values for argument 'pretrained_model_name_or_path'"
     ]
    }
   ],
   "source": [
    "from transformers import AutoTokenizer\n",
    "\n",
    "# 加载预训练的Tokenizer\n",
    "tokenizer = AutoTokenizer.from_pretrained(\"bert-base-uncased\", pretrained_model_name_or_path=\"vocab.txt\")\n",
    "\n",
    "# 待处理的文本\n",
    "text = \"Transformers are the core of modern NLP tasks.\"\n",
    "\n",
    "# 使用Tokenizer进行编码\n",
    "encoded_input = tokenizer(text, return_tensors='pt')\n",
    "\n",
    "# 访问编码结果\n",
    "input_ids = encoded_input['input_ids']\n",
    "attention_mask = encoded_input['attention_mask']\n",
    "print(input_ids)\n",
    "print(attention_mask)"
   ]
  },
  {
   "cell_type": "code",
   "execution_count": 5,
   "metadata": {},
   "outputs": [
    {
     "name": "stdout",
     "output_type": "stream",
     "text": [
      "{'input_ids': tensor([[  101, 19081,  2024,  1996,  4563,  1997,  2715, 17953,  2361,  8518,\n",
      "          1012,   102]]), 'token_type_ids': tensor([[0, 0, 0, 0, 0, 0, 0, 0, 0, 0, 0, 0]]), 'attention_mask': tensor([[1, 1, 1, 1, 1, 1, 1, 1, 1, 1, 1, 1]])}\n"
     ]
    }
   ],
   "source": [
    "print(encoded_input)"
   ]
  },
  {
   "cell_type": "code",
   "execution_count": 4,
   "metadata": {},
   "outputs": [
    {
     "name": "stdout",
     "output_type": "stream",
     "text": [
      "30522\n"
     ]
    }
   ],
   "source": [
    "print(len(tokenizer.vocab))"
   ]
  },
  {
   "cell_type": "code",
   "execution_count": 28,
   "metadata": {},
   "outputs": [
    {
     "name": "stdout",
     "output_type": "stream",
     "text": [
      "{'input_ids': tensor([[258,  25,  13,   4,   8,  15,  14,   4, 256]]), 'token_type_ids': tensor([[0, 0, 0, 0, 0, 0, 0, 0, 0]]), 'attention_mask': tensor([[1, 1, 1, 1, 1, 1, 1, 1, 1]])}\n",
      "[CLS] o = [UNK] ( n ) [UNK] [SEP]\n"
     ]
    }
   ],
   "source": [
    "from transformers import BertTokenizerFast\n",
    "\n",
    "class CustomBertTokenizer(BertTokenizerFast):\n",
    "    def __init__(self, vocab_file, **kwargs):\n",
    "        super().__init__(vocab_file=vocab_file, **kwargs)\n",
    "        # 自定义逻辑...\n",
    "\n",
    "# 假设已有自定义词汇表\n",
    "custom_tokenizer = CustomBertTokenizer(vocab_file=\"vocab_full.txt\")\n",
    "encoded_custom = custom_tokenizer(\"O=C1(N)Cl\", return_tensors=\"pt\")\n",
    "print(encoded_custom)\n",
    "encode_num = encoded_custom['input_ids']\n",
    "print(custom_tokenizer.decode([258,  25,  13,   4,   8,  15,  14,   4, 256]))\n",
    "# print(custom_tokenizer.get_vocab)"
   ]
  },
  {
   "cell_type": "code",
   "execution_count": 3,
   "metadata": {},
   "outputs": [
    {
     "name": "stdout",
     "output_type": "stream",
     "text": [
      "Epoch [100/1000], Loss: 1.8484\n",
      "Epoch [200/1000], Loss: 1.2885\n",
      "Epoch [300/1000], Loss: 1.0948\n",
      "Epoch [400/1000], Loss: 1.0279\n",
      "Epoch [500/1000], Loss: 1.0047\n",
      "Epoch [600/1000], Loss: 0.9967\n",
      "Epoch [700/1000], Loss: 0.9939\n",
      "Epoch [800/1000], Loss: 0.9929\n",
      "Epoch [900/1000], Loss: 0.9926\n",
      "Epoch [1000/1000], Loss: 0.9925\n"
     ]
    },
    {
     "data": {
      "image/png": "[encoded data removed]",
      "text/plain": [
       "<Figure size 640x480 with 1 Axes>"
      ]
     },
     "metadata": {},
     "output_type": "display_data"
    }
   ],
   "source": [
    "import torch\n",
    "import torch.nn as nn\n",
    "import torch.optim as optim\n",
    "import numpy as np\n",
    "import matplotlib.pyplot as plt\n",
    "\n",
    "# 生成一些合成数据\n",
    "np.random.seed(0)\n",
    "X = np.random.rand(100, 1) * 10  # 100个样本，每个样本一个特征\n",
    "y = 2.5 * X + 3 + np.random.randn(100, 1)  # 线性关系并加上噪声\n",
    "\n",
    "# 将数据转换为PyTorch的Tensor\n",
    "X_train = torch.tensor(X, dtype=torch.float32).to(\"cuda\")\n",
    "y_train = torch.tensor(y, dtype=torch.float32).to(\"cuda\")\n",
    "\n",
    "# 定义一个简单的线性回归模型\n",
    "class LinearRegressionModel(nn.Module):\n",
    "    def __init__(self):\n",
    "        super(LinearRegressionModel, self).__init__()\n",
    "        self.linear = nn.Linear(1, 1)  # 输入1个特征，输出1个值\n",
    "\n",
    "    def forward(self, x):\n",
    "        return self.linear(x)\n",
    "\n",
    "# 实例化模型\n",
    "model = LinearRegressionModel().to(\"cuda\")\n",
    "\n",
    "# 定义损失函数和优化器\n",
    "criterion = nn.MSELoss()\n",
    "optimizer = optim.SGD(model.parameters(), lr=0.01)\n",
    "\n",
    "# 训练模型\n",
    "num_epochs = 1000\n",
    "for epoch in range(num_epochs):\n",
    "    model.train()\n",
    "    outputs = model(X_train)\n",
    "    loss = criterion(outputs, y_train)\n",
    "    \n",
    "    optimizer.zero_grad()\n",
    "    loss.backward()\n",
    "    optimizer.step()\n",
    "    \n",
    "    if (epoch+1) % 100 == 0:\n",
    "        print(f'Epoch [{epoch+1}/{num_epochs}], Loss: {loss.item():.4f}')\n",
    "\n",
    "# 评估模型\n",
    "model.eval()\n",
    "with torch.no_grad():\n",
    "    predicted = model(X_train).detach().cpu().numpy()\n",
    "\n",
    "# 可视化结果\n",
    "plt.scatter(X, y, label='Original data')\n",
    "plt.plot(X, predicted, label='Fitted line', color='r')\n",
    "plt.legend()\n",
    "plt.show()\n"
   ]
  },
  {
   "cell_type": "code",
   "execution_count": 5,
   "metadata": {},
   "outputs": [
    {
     "name": "stdout",
     "output_type": "stream",
     "text": [
      "tensor([[[ 1.4424,  0.2252, -1.0175, -1.0651, -0.4816],\n",
      "         [ 0.5134,  0.7284,  1.0589,  0.3662,  0.9365],\n",
      "         [-0.6247,  0.3993,  0.0912,  1.4152,  0.5796]],\n",
      "\n",
      "        [[ 0.7412, -0.5675,  0.3955,  0.1307,  0.6110],\n",
      "         [ 0.3621, -0.5063, -0.6204, -0.1277, -0.5402],\n",
      "         [-0.5658,  0.6043,  0.0383, -2.2614,  0.4092]]])\n",
      "tensor([[ 0.5134,  0.7284,  1.0589,  0.3662,  0.9365],\n",
      "        [ 0.3621, -0.5063, -0.6204, -0.1277, -0.5402]])\n"
     ]
    }
   ],
   "source": [
    "target = torch.randn(2, 3, 5)\n",
    "print(target)\n",
    "print(target[:, 1, :].squeeze(1))"
   ]
  },
  {
   "cell_type": "code",
   "execution_count": 6,
   "metadata": {},
   "outputs": [
    {
     "name": "stdout",
     "output_type": "stream",
     "text": [
      "Input shape: torch.Size([32, 10, 512])\n",
      "Output shape: torch.Size([32, 10, 512])\n"
     ]
    },
    {
     "name": "stderr",
     "output_type": "stream",
     "text": [
      "/home/xc/miniconda3/envs/usual_torch/lib/python3.10/site-packages/torch/nn/modules/transformer.py:282: UserWarning: enable_nested_tensor is True, but self.use_nested_tensor is False because encoder_layer.self_attn.batch_first was not True(use batch_first for better inference performance)\n",
      "  warnings.warn(f\"enable_nested_tensor is True, but self.use_nested_tensor is False because {why_not_sparsity_fast_path}\")\n"
     ]
    }
   ],
   "source": [
    "import torch\n",
    "import torch.nn as nn\n",
    "\n",
    "# 假设输入序列的长度为 10，特征维度为 512\n",
    "seq_len = 10\n",
    "d_model = 512\n",
    "nhead = 8  # 自注意力机制的头数\n",
    "num_layers = 6  # 编码器层的数量\n",
    "\n",
    "# 创建一个 Transformer 编码器层\n",
    "encoder_layer = nn.TransformerEncoderLayer(\n",
    "    d_model=d_model,\n",
    "    nhead=nhead,\n",
    "    dim_feedforward=2048,  # 前馈神经网络中的隐藏层维度\n",
    "    dropout=0.1,\n",
    "    activation='relu'\n",
    ")\n",
    "\n",
    "# 创建一个包含多个编码器层的 Transformer 编码器\n",
    "encoder = nn.TransformerEncoder(encoder_layer, num_layers=num_layers).to(\"cuda\")\n",
    "\n",
    "# 创建一个输入张量，形状为 (batch_size, seq_len, d_model)\n",
    "batch_size = 32\n",
    "input_tensor = torch.randn(batch_size, seq_len, d_model).to(\"cuda\")\n",
    "\n",
    "# 将输入张量传递给编码器\n",
    "output_tensor = encoder(input_tensor)\n",
    "\n",
    "print(\"Input shape:\", input_tensor.shape)\n",
    "print(\"Output shape:\", output_tensor.shape)\n"
   ]
  },
  {
   "cell_type": "code",
   "execution_count": 2,
   "metadata": {},
   "outputs": [
    {
     "name": "stdout",
     "output_type": "stream",
     "text": [
      "[[1 2 3 4]\n",
      " [5 6 7 8]]\n"
     ]
    }
   ],
   "source": [
    "import numpy as np\n",
    "\n",
    "np1 = np.array([[1,2], [5,6]])\n",
    "np2 = np.array([[3,4], [7,8]])\n",
    "train_x = np.concatenate([np1, np2],axis=1)\n",
    "print(train_x)"
   ]
  }
 ],
 "metadata": {
  "kernelspec": {
   "display_name": "usual",
   "language": "python",
   "name": "python3"
  },
  "language_info": {
   "codemirror_mode": {
    "name": "ipython",
    "version": 3
   },
   "file_extension": ".py",
   "mimetype": "text/x-python",
   "name": "python",
   "nbconvert_exporter": "python",
   "pygments_lexer": "ipython3",
   "version": "3.10.13"
  }
 },
 "nbformat": 4,
 "nbformat_minor": 2
}
