{
 "cells": [
  {
   "cell_type": "markdown",
   "metadata": {},
   "source": [
    "## Import dependency"
   ]
  },
  {
   "cell_type": "markdown",
   "metadata": {},
   "source": [
    "- Python3\n",
    "- pandas\n",
    "- scikit-learn\n",
    "- rdkit"
   ]
  },
  {
   "cell_type": "code",
   "execution_count": 1,
   "metadata": {},
   "outputs": [],
   "source": [
    "import pickle\n",
    "import pandas as pd\n",
    "from tqdm import tqdm\n",
    "from sklearn.ensemble import RandomForestRegressor\n",
    "from rdkit.Chem import rdMolDescriptors\n",
    "from rdkit import RDLogger,Chem\n",
    "import numpy as np\n",
    "RDLogger.DisableLog('rdApp.*')"
   ]
  },
  {
   "cell_type": "code",
   "execution_count": 3,
   "metadata": {},
   "outputs": [],
   "source": [
    "def mfgen(mol,nBits=2048, radius=2):\n",
    "    '''\n",
    "    Parameters\n",
    "    ----------\n",
    "    mol : mol\n",
    "        RDKit mol object.\n",
    "    nBits : int\n",
    "        Number of bits for the fingerprint.\n",
    "    radius : int\n",
    "        Radius of the Morgan fingerprint.\n",
    "    Returns\n",
    "    -------\n",
    "    mf_desc_map : ndarray\n",
    "        ndarray of molecular fingerprint descriptors.\n",
    "    '''\n",
    "    fp = rdMolDescriptors.GetMorganFingerprintAsBitVect(mol,radius=radius,nBits=nBits)\n",
    "    return np.array(list(map(eval,list(fp.ToBitString()))))\n",
    "\n",
    "def vec_cpd_lst(smi_lst):\n",
    "    smi_set = list(set(smi_lst))\n",
    "    smi_vec_map = {}\n",
    "    for smi in tqdm(smi_set):\n",
    "        mol = Chem.MolFromSmiles(smi)\n",
    "        smi_vec_map[smi] = mfgen(mol)\n",
    "    smi_vec_map[''] = np.zeros(2048)\n",
    "    \n",
    "    vec_lst = [smi_vec_map[smi] for smi in smi_lst]\n",
    "    return np.array(vec_lst)"
   ]
  },
  {
   "cell_type": "markdown",
   "metadata": {},
   "source": [
    "## Vectorization"
   ]
  },
  {
   "cell_type": "code",
   "execution_count": 5,
   "metadata": {},
   "outputs": [
    {
     "name": "stdout",
     "output_type": "stream",
     "text": [
      "Training set size: 23538, test set size: 2616\n"
     ]
    }
   ],
   "source": [
    "dataset_dir = '../dataset'   # Change this to your dataset directory\n",
    "\n",
    "train_df = pd.read_csv(f'{dataset_dir}/round1_train_data.csv')\n",
    "test_df = pd.read_csv(f'{dataset_dir}/round1_test_data.csv')\n",
    "\n",
    "print(f'Training set size: {len(train_df)}, test set size: {len(test_df)}')"
   ]
  },
  {
   "cell_type": "code",
   "execution_count": 6,
   "metadata": {},
   "outputs": [
    {
     "name": "stderr",
     "output_type": "stream",
     "text": [
      "100%|██████████| 6081/6081 [00:34<00:00, 174.10it/s]\n",
      "100%|██████████| 8763/8763 [00:49<00:00, 175.52it/s]\n",
      "100%|██████████| 1284/1284 [00:07<00:00, 177.15it/s]\n",
      "100%|██████████| 432/432 [00:02<00:00, 181.92it/s]\n",
      "100%|██████████| 1257/1257 [00:07<00:00, 176.30it/s]\n",
      "100%|██████████| 1743/1743 [00:09<00:00, 176.75it/s]\n",
      "100%|██████████| 404/404 [00:02<00:00, 177.40it/s]\n",
      "100%|██████████| 143/143 [00:00<00:00, 181.49it/s]\n"
     ]
    }
   ],
   "source": [
    "train_rct1_smi = train_df['Reactant1'].to_list()\n",
    "train_rct2_smi = train_df['Reactant2'].to_list()\n",
    "train_add_smi = train_df['Additive'].to_list()\n",
    "train_sol_smi = train_df['Solvent'].to_list()\n",
    "\n",
    "train_rct1_fp = vec_cpd_lst(train_rct1_smi)\n",
    "train_rct2_fp = vec_cpd_lst(train_rct2_smi)\n",
    "train_add_fp = vec_cpd_lst(train_add_smi)\n",
    "train_sol_fp = vec_cpd_lst(train_sol_smi)\n",
    "train_x = np.concatenate([train_rct1_fp,train_rct2_fp,train_add_fp,train_sol_fp],axis=1)\n",
    "train_y = train_df['Yield'].to_numpy()\n",
    "\n",
    "test_rct1_smi = test_df['Reactant1'].to_list()\n",
    "test_rct2_smi = test_df['Reactant2'].to_list()\n",
    "test_add_smi = test_df['Additive'].to_list()\n",
    "test_sol_smi = test_df['Solvent'].to_list()\n",
    "\n",
    "test_rct1_fp = vec_cpd_lst(test_rct1_smi)\n",
    "test_rct2_fp = vec_cpd_lst(test_rct2_smi)\n",
    "test_add_fp = vec_cpd_lst(test_add_smi)\n",
    "test_sol_fp = vec_cpd_lst(test_sol_smi)\n",
    "test_x = np.concatenate([test_rct1_fp,test_rct2_fp,test_add_fp,test_sol_fp],axis=1)"
   ]
  },
  {
   "cell_type": "markdown",
   "metadata": {},
   "source": [
    "## Model fitting and saving"
   ]
  },
  {
   "cell_type": "code",
   "execution_count": 7,
   "metadata": {},
   "outputs": [
    {
     "data": {
      "text/html": [
       "<style>#sk-container-id-1 {color: black;}#sk-container-id-1 pre{padding: 0;}#sk-container-id-1 div.sk-toggleable {background-color: white;}#sk-container-id-1 label.sk-toggleable__label {cursor: pointer;display: block;width: 100%;margin-bottom: 0;padding: 0.3em;box-sizing: border-box;text-align: center;}#sk-container-id-1 label.sk-toggleable__label-arrow:before {content: \"▸\";float: left;margin-right: 0.25em;color: #696969;}#sk-container-id-1 label.sk-toggleable__label-arrow:hover:before {color: black;}#sk-container-id-1 div.sk-estimator:hover label.sk-toggleable__label-arrow:before {color: black;}#sk-container-id-1 div.sk-toggleable__content {max-height: 0;max-width: 0;overflow: hidden;text-align: left;background-color: #f0f8ff;}#sk-container-id-1 div.sk-toggleable__content pre {margin: 0.2em;color: black;border-radius: 0.25em;background-color: #f0f8ff;}#sk-container-id-1 input.sk-toggleable__control:checked~div.sk-toggleable__content {max-height: 200px;max-width: 100%;overflow: auto;}#sk-container-id-1 input.sk-toggleable__control:checked~label.sk-toggleable__label-arrow:before {content: \"▾\";}#sk-container-id-1 div.sk-estimator input.sk-toggleable__control:checked~label.sk-toggleable__label {background-color: #d4ebff;}#sk-container-id-1 div.sk-label input.sk-toggleable__control:checked~label.sk-toggleable__label {background-color: #d4ebff;}#sk-container-id-1 input.sk-hidden--visually {border: 0;clip: rect(1px 1px 1px 1px);clip: rect(1px, 1px, 1px, 1px);height: 1px;margin: -1px;overflow: hidden;padding: 0;position: absolute;width: 1px;}#sk-container-id-1 div.sk-estimator {font-family: monospace;background-color: #f0f8ff;border: 1px dotted black;border-radius: 0.25em;box-sizing: border-box;margin-bottom: 0.5em;}#sk-container-id-1 div.sk-estimator:hover {background-color: #d4ebff;}#sk-container-id-1 div.sk-parallel-item::after {content: \"\";width: 100%;border-bottom: 1px solid gray;flex-grow: 1;}#sk-container-id-1 div.sk-label:hover label.sk-toggleable__label {background-color: #d4ebff;}#sk-container-id-1 div.sk-serial::before {content: \"\";position: absolute;border-left: 1px solid gray;box-sizing: border-box;top: 0;bottom: 0;left: 50%;z-index: 0;}#sk-container-id-1 div.sk-serial {display: flex;flex-direction: column;align-items: center;background-color: white;padding-right: 0.2em;padding-left: 0.2em;position: relative;}#sk-container-id-1 div.sk-item {position: relative;z-index: 1;}#sk-container-id-1 div.sk-parallel {display: flex;align-items: stretch;justify-content: center;background-color: white;position: relative;}#sk-container-id-1 div.sk-item::before, #sk-container-id-1 div.sk-parallel-item::before {content: \"\";position: absolute;border-left: 1px solid gray;box-sizing: border-box;top: 0;bottom: 0;left: 50%;z-index: -1;}#sk-container-id-1 div.sk-parallel-item {display: flex;flex-direction: column;z-index: 1;position: relative;background-color: white;}#sk-container-id-1 div.sk-parallel-item:first-child::after {align-self: flex-end;width: 50%;}#sk-container-id-1 div.sk-parallel-item:last-child::after {align-self: flex-start;width: 50%;}#sk-container-id-1 div.sk-parallel-item:only-child::after {width: 0;}#sk-container-id-1 div.sk-dashed-wrapped {border: 1px dashed gray;margin: 0 0.4em 0.5em 0.4em;box-sizing: border-box;padding-bottom: 0.4em;background-color: white;}#sk-container-id-1 div.sk-label label {font-family: monospace;font-weight: bold;display: inline-block;line-height: 1.2em;}#sk-container-id-1 div.sk-label-container {text-align: center;}#sk-container-id-1 div.sk-container {/* jupyter's `normalize.less` sets `[hidden] { display: none; }` but bootstrap.min.css set `[hidden] { display: none !important; }` so we also need the `!important` here to be able to override the default hidden behavior on the sphinx rendered scikit-learn.org. See: https://github.com/scikit-learn/scikit-learn/issues/21755 */display: inline-block !important;position: relative;}#sk-container-id-1 div.sk-text-repr-fallback {display: none;}</style><div id=\"sk-container-id-1\" class=\"sk-top-container\"><div class=\"sk-text-repr-fallback\"><pre>RandomForestRegressor(max_depth=10, n_jobs=-1)</pre><b>In a Jupyter environment, please rerun this cell to show the HTML representation or trust the notebook. <br />On GitHub, the HTML representation is unable to render, please try loading this page with nbviewer.org.</b></div><div class=\"sk-container\" hidden><div class=\"sk-item\"><div class=\"sk-estimator sk-toggleable\"><input class=\"sk-toggleable__control sk-hidden--visually\" id=\"sk-estimator-id-1\" type=\"checkbox\" checked><label for=\"sk-estimator-id-1\" class=\"sk-toggleable__label sk-toggleable__label-arrow\">RandomForestRegressor</label><div class=\"sk-toggleable__content\"><pre>RandomForestRegressor(max_depth=10, n_jobs=-1)</pre></div></div></div></div></div>"
      ],
      "text/plain": [
       "RandomForestRegressor(max_depth=10, n_jobs=-1)"
      ]
     },
     "execution_count": 7,
     "metadata": {},
     "output_type": "execute_result"
    }
   ],
   "source": [
    "# Model fitting\n",
    "model = RandomForestRegressor(n_estimators=100,max_depth=10,min_samples_split=2,min_samples_leaf=1,n_jobs=-1)\n",
    "model.fit(train_x,train_y)"
   ]
  },
  {
   "cell_type": "code",
   "execution_count": 29,
   "metadata": {},
   "outputs": [],
   "source": [
    "# Saving model to file\n",
    "with open('./random_forest_model.pkl', 'wb') as file:\n",
    "    pickle.dump(model, file)"
   ]
  },
  {
   "cell_type": "code",
   "execution_count": 30,
   "metadata": {},
   "outputs": [],
   "source": [
    "# Load model from file\n",
    "with open('random_forest_model.pkl', 'rb') as file:\n",
    "    loaded_model = pickle.load(file)"
   ]
  },
  {
   "cell_type": "code",
   "execution_count": 33,
   "metadata": {},
   "outputs": [],
   "source": [
    "# Inference\n",
    "test_pred = loaded_model.predict(test_x)"
   ]
  },
  {
   "cell_type": "markdown",
   "metadata": {},
   "source": [
    "## Answer generation"
   ]
  },
  {
   "cell_type": "code",
   "execution_count": 35,
   "metadata": {},
   "outputs": [],
   "source": [
    "ans_str_lst = ['rxnid,Yield']\n",
    "for idx,y in enumerate(test_pred):\n",
    "    ans_str_lst.append(f'test{idx+1},{y:.4f}')\n",
    "with open('./submit.txt','w') as fw:\n",
    "    fw.writelines('\\n'.join(ans_str_lst))"
   ]
  }
 ],
 "metadata": {
  "kernelspec": {
   "display_name": "base",
   "language": "python",
   "name": "python3"
  },
  "language_info": {
   "codemirror_mode": {
    "name": "ipython",
    "version": 3
   },
   "file_extension": ".py",
   "mimetype": "text/x-python",
   "name": "python",
   "nbconvert_exporter": "python",
   "pygments_lexer": "ipython3",
   "version": "3.10.13"
  }
 },
 "nbformat": 4,
 "nbformat_minor": 2
}
